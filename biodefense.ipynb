{
  "nbformat": 4,
  "nbformat_minor": 0,
  "metadata": {
    "colab": {
      "provenance": []
    },
    "kernelspec": {
      "name": "python3",
      "display_name": "Python 3"
    },
    "language_info": {
      "name": "python"
    }
  },
  "cells": [
    {
      "cell_type": "markdown",
      "source": [
        "#  Find Clusters of Infected People"
      ],
      "metadata": {
        "id": "Qt2PU3sTXjvo"
      }
    },
    {
      "cell_type": "code",
      "execution_count": null,
      "metadata": {
        "id": "vR0Lzq3hWR0r"
      },
      "outputs": [],
      "source": [
        "import cudf\n",
        "import cuml\n",
        "\n",
        "import cupy as cp"
      ]
    },
    {
      "cell_type": "markdown",
      "source": [
        "Begin by loading the data you've received about week 1 of the outbreak into a cuDF data frame. The data is located at `'./data/week1.csv'`. For this notebook you will only need the `'lat'`, `'long'`, and `'infected'` columns. Either drop the columns after loading, or use the `cudf.read_csv` named argument `usecols` to provide a list of only the columns you need."
      ],
      "metadata": {
        "id": "_tOVqk5kaN8H"
      }
    },
    {
      "cell_type": "code",
      "source": [
        "week1_df = cudf.read_csv('./data/week1.csv', usecols=['lat', 'long', 'infected'])\n",
        "display(week1_df.head())"
      ],
      "metadata": {
        "id": "xxEtpWRMaRTK"
      },
      "execution_count": null,
      "outputs": []
    },
    {
      "cell_type": "markdown",
      "source": [
        "Make a new cuDF data frame `infected_df` that contains only the infected members of the population."
      ],
      "metadata": {
        "id": "TbVAbF70aRhY"
      }
    },
    {
      "cell_type": "code",
      "source": [
        "infected_df = week1_df[week1_df['infected'] == True].copy()\n",
        "display(infected_df.head())"
      ],
      "metadata": {
        "id": "jclFmqJGaWr0"
      },
      "execution_count": null,
      "outputs": []
    },
    {
      "cell_type": "markdown",
      "source": [
        "Provided for you in the next cell (which you can expand by clicking on the \"...\" and contract again after executing by clicking on the blue left border of the cell) is the lat/long to OSGB36 grid coordinates converter you used earlier in the workshop. Use this converter to create grid coordinate values stored in `northing` and `easting` columns of the `infected_df` you created in the last step."
      ],
      "metadata": {
        "id": "XUZJ_pv7aW4t"
      }
    },
    {
      "cell_type": "code",
      "source": [
        "# https://www.ordnancesurvey.co.uk/docs/support/guide-coordinate-systems-great-britain.pdf\n",
        "\n",
        "def latlong2osgbgrid_cupy(lat, long, input_degrees=True):\n",
        "    '''\n",
        "    Converts latitude and longitude (ellipsoidal) coordinates into northing and easting (grid) coordinates, using a Transverse Mercator projection.\n",
        "\n",
        "    Inputs:\n",
        "    lat: latitude coordinate (N)\n",
        "    long: longitude coordinate (E)\n",
        "    input_degrees: if True (default), interprets the coordinates as degrees; otherwise, interprets coordinates as radians\n",
        "\n",
        "    Output:\n",
        "    (northing, easting)\n",
        "    '''\n",
        "\n",
        "    if input_degrees:\n",
        "        lat = lat * cp.pi/180\n",
        "        long = long * cp.pi/180\n",
        "\n",
        "    a = 6377563.396\n",
        "    b = 6356256.909\n",
        "    e2 = (a**2 - b**2) / a**2\n",
        "\n",
        "    N0 = -100000 # northing of true origin\n",
        "    E0 = 400000 # easting of true origin\n",
        "    F0 = .9996012717 # scale factor on central meridian\n",
        "    phi0 = 49 * cp.pi / 180 # latitude of true origin\n",
        "    lambda0 = -2 * cp.pi / 180 # longitude of true origin and central meridian\n",
        "\n",
        "    sinlat = cp.sin(lat)\n",
        "    coslat = cp.cos(lat)\n",
        "    tanlat = cp.tan(lat)\n",
        "\n",
        "    latdiff = lat-phi0\n",
        "    longdiff = long-lambda0\n",
        "\n",
        "    n = (a-b) / (a+b)\n",
        "    nu = a * F0 * (1 - e2 * sinlat ** 2) ** -.5\n",
        "    rho = a * F0 * (1 - e2) * (1 - e2 * sinlat ** 2) ** -1.5\n",
        "    eta2 = nu / rho - 1\n",
        "    M = b * F0 * ((1 + n + 5/4 * (n**2 + n**3)) * latdiff -\n",
        "                  (3*(n+n**2) + 21/8 * n**3) * cp.sin(latdiff) * cp.cos(lat+phi0) +\n",
        "                  15/8 * (n**2 + n**3) * cp.sin(2*(latdiff)) * cp.cos(2*(lat+phi0)) -\n",
        "                  35/24 * n**3 * cp.sin(3*(latdiff)) * cp.cos(3*(lat+phi0)))\n",
        "    I = M + N0\n",
        "    II = nu/2 * sinlat * coslat\n",
        "    III = nu/24 * sinlat * coslat ** 3 * (5 - tanlat ** 2 + 9 * eta2)\n",
        "    IIIA = nu/720 * sinlat * coslat ** 5 * (61-58 * tanlat**2 + tanlat**4)\n",
        "    IV = nu * coslat\n",
        "    V = nu / 6 * coslat**3 * (nu/rho - cp.tan(lat)**2)\n",
        "    VI = nu / 120 * coslat ** 5 * (5 - 18 * tanlat**2 + tanlat**4 + 14 * eta2 - 58 * tanlat**2 * eta2)\n",
        "\n",
        "    northing = I + II * longdiff**2 + III * longdiff**4 + IIIA * longdiff**6\n",
        "    easting = E0 + IV * longdiff + V * longdiff**3 + VI * longdiff**5\n",
        "\n",
        "    return(northing, easting)"
      ],
      "metadata": {
        "id": "yQ7CbVt4abcJ"
      },
      "execution_count": null,
      "outputs": []
    },
    {
      "cell_type": "code",
      "source": [
        "infected_df['northing'], infected_df['easting'] = latlong2osgbgrid_cupy(infected_df['lat'], infected_df['long'])\n",
        "display(infected_df.head())"
      ],
      "metadata": {
        "id": "tAFloYzXfuMw"
      },
      "execution_count": null,
      "outputs": []
    },
    {
      "cell_type": "markdown",
      "source": [
        "Use DBSCAN to find clusters of at least 25 infected people where no member is more than 2000m from at least one other cluster member. Create a new column in `infected_df` which contains the cluster to which each infected person belongs."
      ],
      "metadata": {
        "id": "RsRlLRUiamkp"
      }
    },
    {
      "cell_type": "code",
      "source": [
        "from cuml.cluster import DBSCAN\n",
        "\n",
        "# eps is the maximum distance between two samples for one to be considered as in the neighborhood of the other.\n",
        "# min_samples is the number of samples in a neighborhood for a point to be considered as a core point.\n",
        "dbscan = DBSCAN(eps=2000, min_samples=25)\n",
        "\n",
        "infected_df['cluster'] = dbscan.fit_predict(infected_df[['easting', 'northing']])\n",
        "display(infected_df.head())"
      ],
      "metadata": {
        "id": "dvY60DNoaqSj"
      },
      "execution_count": null,
      "outputs": []
    },
    {
      "cell_type": "markdown",
      "source": [
        "Use grouping to find the mean `northing` and `easting` values for each cluster identified above."
      ],
      "metadata": {
        "id": "GWcugVCXauLP"
      }
    },
    {
      "cell_type": "code",
      "source": [
        "cluster_centers = infected_df.groupby('cluster')[['northing', 'easting']].mean()\n",
        "display(cluster_centers)"
      ],
      "metadata": {
        "id": "2lWVTSL1axT2"
      },
      "execution_count": null,
      "outputs": []
    },
    {
      "cell_type": "markdown",
      "source": [
        "Find the number of people in each cluster by counting the number of appearances of each cluster's label in the column produced by DBSCAN."
      ],
      "metadata": {
        "id": "Jnu_m1hGaxha"
      }
    },
    {
      "cell_type": "code",
      "source": [
        "cluster_counts = infected_df['cluster'].value_counts()\n",
        "display(cluster_counts)"
      ],
      "metadata": {
        "id": "VmMfsxMmayJi"
      },
      "execution_count": null,
      "outputs": []
    },
    {
      "cell_type": "markdown",
      "source": [
        "# Identify Nearest Health Facilities"
      ],
      "metadata": {
        "id": "TmJmIf9Lb3sl"
      }
    },
    {
      "cell_type": "code",
      "source": [],
      "metadata": {
        "id": "dWzkGNUyb6g7"
      },
      "execution_count": null,
      "outputs": []
    },
    {
      "cell_type": "markdown",
      "source": [
        "Begin by loading the `lat`, `long` and `infected` columns from `'./data/week2.csv'` into a cuDF data frame called `gdf`."
      ],
      "metadata": {
        "id": "kjHocckvcGvb"
      }
    },
    {
      "cell_type": "code",
      "source": [
        "gdf = cudf.read_csv('./data/week2.csv', usecols=['lat', 'long', 'infected'])\n",
        "display(gdf.head())"
      ],
      "metadata": {
        "id": "X10PnIFQcPbd"
      },
      "execution_count": null,
      "outputs": []
    },
    {
      "cell_type": "markdown",
      "source": [
        "For this step, your goal is to create an `all_med` cuDF data frame that contains the latitudes and longitudes of all the hospitals (data found at `'./data/hospitals.csv'`) and clinics (data found at `'./data/clinics.csv'`)."
      ],
      "metadata": {
        "id": "Juf0Ds1FcPq5"
      }
    },
    {
      "cell_type": "code",
      "source": [
        "hospitals_df = cudf.read_csv('./data/hospitals.csv')\n",
        "clinics_df = cudf.read_csv('./data/clinics.csv')\n",
        "\n",
        "all_med = cudf.concat([hospitals_df, clinics_df], ignore_index=True)\n",
        "display(all_med.head())"
      ],
      "metadata": {
        "id": "0JyYLD8ZcTKR"
      },
      "execution_count": null,
      "outputs": []
    },
    {
      "cell_type": "markdown",
      "source": [
        "Since we will be using the coordinates of those facilities, keep only those rows that are non-null in both  `Latitude` and `Longitude`."
      ],
      "metadata": {
        "id": "sh8aOvmIcTYT"
      }
    },
    {
      "cell_type": "code",
      "source": [
        "all_med = all_med.dropna(subset=['Latitude', 'Longitude'])\n",
        "display(all_med.head())"
      ],
      "metadata": {
        "id": "QV1JTv8gcXva"
      },
      "execution_count": null,
      "outputs": []
    },
    {
      "cell_type": "markdown",
      "source": [
        "Provided for you in the next cell (which you can expand by clicking on the \"...\", and contract again after executing by clicking on the blue left border of the cell) is the lat/long to grid coordinates converter you have used earlier in the workshop. Use this converter to create grid coordinate values stored in `northing` and `easting` columns of the `all_med` data frame you created in the last step."
      ],
      "metadata": {
        "id": "ZmBWVOLGcX7B"
      }
    },
    {
      "cell_type": "code",
      "source": [
        "# Fit `cuml.NearestNeighbors` with `all_med`'s `northing` and `easting` values, using the named argument `n_neighbors` set to `1`, and save the model as `knn`."
      ],
      "metadata": {
        "id": "NdUAE48Gcccn"
      },
      "execution_count": null,
      "outputs": []
    },
    {
      "cell_type": "code",
      "source": [
        "all_med['northing'], all_med['easting'] = latlong2osgbgrid_cupy(all_med['Latitude'], all_med['Longitude'])\n",
        "display(all_med.head())"
      ],
      "metadata": {
        "id": "oIA_3-bOchFQ"
      },
      "execution_count": null,
      "outputs": []
    },
    {
      "cell_type": "markdown",
      "source": [
        "Save every infected member in `gdf` into a new dataframe called `infected_gdf`."
      ],
      "metadata": {
        "id": "inrNU1yBchQ_"
      }
    },
    {
      "cell_type": "code",
      "source": [
        "infected_gdf = gdf[gdf['infected'] == True].copy()\n",
        "display(infected_gdf.head())"
      ],
      "metadata": {
        "id": "K0fbKCrxcjHr"
      },
      "execution_count": null,
      "outputs": []
    },
    {
      "cell_type": "markdown",
      "source": [
        "Create `northing` and `easting` values for `infected_gdf`."
      ],
      "metadata": {
        "id": "qbbMLle6cjU5"
      }
    },
    {
      "cell_type": "code",
      "source": [
        "infected_gdf['northing'], infected_gdf['easting'] = latlong2osgbgrid_cupy(infected_gdf['lat'], infected_gdf['long'])\n",
        "display(infected_gdf.head())"
      ],
      "metadata": {
        "id": "HdqL_sxvclua"
      },
      "execution_count": null,
      "outputs": []
    },
    {
      "cell_type": "markdown",
      "source": [
        "Use `knn.kneighbors` with `n_neighbors=1` on `infected_gdf`'s `northing` and `easting` values. Save the return values in `distances` and `indices`."
      ],
      "metadata": {
        "id": "9SunadoAcl8O"
      }
    },
    {
      "cell_type": "code",
      "source": [
        "from cuml.neighbors import NearestNeighbors\n",
        "\n",
        "knn = NearestNeighbors(n_neighbors=1)\n",
        "knn.fit(all_med[['northing', 'easting']])"
      ],
      "metadata": {
        "id": "1rubiSbrc1yL"
      },
      "execution_count": null,
      "outputs": []
    },
    {
      "cell_type": "markdown",
      "source": [
        "`indices`, returned from your use of `knn.kneighbors` immediately above, should map person indices to their closest clinic/hospital indices:"
      ],
      "metadata": {
        "id": "gyRzO3xPc2Eh"
      }
    },
    {
      "cell_type": "code",
      "source": [
        "indices.head()"
      ],
      "metadata": {
        "id": "C7uZyZSOc2z2"
      },
      "execution_count": null,
      "outputs": []
    },
    {
      "cell_type": "markdown",
      "source": [
        "Here you can print an infected individual's coordinates from `infected_gdf`:"
      ],
      "metadata": {
        "id": "L45D6OBuc5pv"
      }
    },
    {
      "cell_type": "code",
      "source": [
        "infected_gdf.iloc[0]"
      ],
      "metadata": {
        "id": "l9_4nb3rc-6o"
      },
      "execution_count": null,
      "outputs": []
    },
    {
      "cell_type": "markdown",
      "source": [
        "You should be able to used the mapped index for the nearest facility to see that indeed the nearest facility is at a nearby coordinate:"
      ],
      "metadata": {
        "id": "tF_zveWMdJ3q"
      }
    },
    {
      "cell_type": "code",
      "source": [
        "all_med.iloc[1234]"
      ],
      "metadata": {
        "id": "Mt3aLxQ-dLlC"
      },
      "execution_count": null,
      "outputs": []
    },
    {
      "cell_type": "code",
      "metadata": {
        "id": "49aa3aea"
      },
      "source": [
        "distances, indices = knn.kneighbors(infected_gdf[['northing', 'easting']])"
      ],
      "execution_count": null,
      "outputs": []
    },
    {
      "cell_type": "markdown",
      "source": [
        "#  Identify Risk Factors for Infection"
      ],
      "metadata": {
        "id": "i_fc484VeGjV"
      }
    },
    {
      "cell_type": "markdown",
      "source": [
        "Begin by loading the data you've received about week 3 of the outbreak into a cuDF data frame. The data is located at `./data/week3.csv`. For this notebook you will need all columns of the data."
      ],
      "metadata": {
        "id": "HDLQxBt4ePR5"
      }
    },
    {
      "cell_type": "code",
      "metadata": {
        "id": "1508f4a0"
      },
      "source": [
        "week3_df = cudf.read_csv('./data/week3.csv')\n",
        "display(week3_df.head())"
      ],
      "execution_count": null,
      "outputs": []
    },
    {
      "cell_type": "markdown",
      "source": [
        "## Calculate Infection Rates by Employment Code"
      ],
      "metadata": {
        "id": "esrLhWyseXIJ"
      }
    },
    {
      "cell_type": "markdown",
      "source": [
        "Convert the `infected` column to type `float32`. For people who are not infected, the float32 `infected` value should be `0.0`, and for infected people it should be `1.0`."
      ],
      "metadata": {
        "id": "eNMxV_kHeYpU"
      }
    },
    {
      "cell_type": "code",
      "metadata": {
        "id": "2bc4b032"
      },
      "source": [
        "week3_df['infected'] = week3_df['infected'].astype('float32')\n",
        "display(week3_df.head())"
      ],
      "execution_count": null,
      "outputs": []
    },
    {
      "cell_type": "markdown",
      "source": [
        "Now, produce a list of employment types and their associated **rates** of infection, sorted from highest to lowest rate of infection.\n",
        "\n",
        "**NOTE**: The infection **rate** for each employment type should be the percentage of total individuals within an employment type who are infected. Therefore, if employment type \"X\" has 1000 people, and 10 of them are infected, the infection **rate** would be .01. If employment type \"Z\" has 10,000 people, and 50 of them are infected, the infection rate would be .005, and would be **lower** than for type \"X\", even though more people within that employment type were infected."
      ],
      "metadata": {
        "id": "7axpT-gzehXS"
      }
    },
    {
      "cell_type": "code",
      "metadata": {
        "id": "29f4b486"
      },
      "source": [
        "infection_rates_by_employment = week3_df.groupby('employment')['infected'].mean().sort_values(ascending=False)\n",
        "display(infection_rates_by_employment)"
      ],
      "execution_count": null,
      "outputs": []
    },
    {
      "cell_type": "markdown",
      "source": [
        "Finally, read in the employment codes guide from `./data/code_guide.csv` to interpret which employment types are seeing the highest rates of infection."
      ],
      "metadata": {
        "id": "8XYX69srepDV"
      }
    },
    {
      "cell_type": "code",
      "metadata": {
        "id": "5e43bf0c"
      },
      "source": [
        "employment_code_guide = cudf.read_csv('./data/code_guide.csv')\n",
        "display(employment_code_guide.head())"
      ],
      "execution_count": null,
      "outputs": []
    },
    {
      "cell_type": "markdown",
      "source": [
        "## Calculate Infection Rates by Employment Code and Sex"
      ],
      "metadata": {
        "id": "aupHKErPetQE"
      }
    },
    {
      "cell_type": "markdown",
      "source": [
        "We want to see if there is an effect of `sex` on infection rate, either in addition to `employment` or confounding it. Group by both `employment` and `sex` simultaneously to get the infection rate for the intersection of those categories."
      ],
      "metadata": {
        "id": "uWtRuBAgexDC"
      }
    },
    {
      "cell_type": "code",
      "metadata": {
        "id": "4910b0aa"
      },
      "source": [
        "infection_rates_by_employment_and_sex = week3_df.groupby(['employment', 'sex'])['infected'].mean().sort_values(ascending=False)\n",
        "display(infection_rates_by_employment_and_sex)"
      ],
      "execution_count": null,
      "outputs": []
    }
  ]
}